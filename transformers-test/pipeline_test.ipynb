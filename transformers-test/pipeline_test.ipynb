{
 "cells": [
  {
   "cell_type": "code",
   "id": "initial_id",
   "metadata": {
    "collapsed": true,
    "ExecuteTime": {
     "end_time": "2025-10-20T11:31:13.038980Z",
     "start_time": "2025-10-20T11:30:57.214269Z"
    }
   },
   "source": [
    "from transformers import pipeline\n",
    "from transformers.utils.import_utils import candidates"
   ],
   "outputs": [],
   "execution_count": 1
  },
  {
   "metadata": {
    "ExecuteTime": {
     "end_time": "2025-10-20T11:31:19.015896Z",
     "start_time": "2025-10-20T11:31:13.062431Z"
    }
   },
   "cell_type": "code",
   "source": [
    "classifier = pipeline('sentiment-analysis',device = 'cpu')\n",
    "classifier(['I am a bad man.',\n",
    "            'you are a good boy.'\n",
    "            ])"
   ],
   "id": "1a585f6c6fe1e268",
   "outputs": [
    {
     "name": "stderr",
     "output_type": "stream",
     "text": [
      "No model was supplied, defaulted to distilbert/distilbert-base-uncased-finetuned-sst-2-english and revision 714eb0f (https://huggingface.co/distilbert/distilbert-base-uncased-finetuned-sst-2-english).\n",
      "Using a pipeline without specifying a model name and revision in production is not recommended.\n"
     ]
    },
    {
     "name": "stdout",
     "output_type": "stream",
     "text": [
      "WARNING:tensorflow:From D:\\PythonProject\\transformers-test\\.venv\\Lib\\site-packages\\tf_keras\\src\\losses.py:2976: The name tf.losses.sparse_softmax_cross_entropy is deprecated. Please use tf.compat.v1.losses.sparse_softmax_cross_entropy instead.\n",
      "\n"
     ]
    },
    {
     "name": "stderr",
     "output_type": "stream",
     "text": [
      "Device set to use cpu\n"
     ]
    },
    {
     "data": {
      "text/plain": [
       "[{'label': 'NEGATIVE', 'score': 0.9993731379508972},\n",
       " {'label': 'POSITIVE', 'score': 0.999881386756897}]"
      ]
     },
     "execution_count": 2,
     "metadata": {},
     "output_type": "execute_result"
    }
   ],
   "execution_count": 2
  },
  {
   "metadata": {
    "ExecuteTime": {
     "end_time": "2025-10-20T11:36:04.019409Z",
     "start_time": "2025-10-20T11:35:59.768093Z"
    }
   },
   "cell_type": "code",
   "source": [
    "classifier = pipeline('zero-shot-classification')\n",
    "classifier('This is a course.',\n",
    "           candidate_labels = ['education','politics','business'],\n",
    "           )"
   ],
   "id": "55252f8589e7ecd4",
   "outputs": [
    {
     "name": "stderr",
     "output_type": "stream",
     "text": [
      "No model was supplied, defaulted to facebook/bart-large-mnli and revision d7645e1 (https://huggingface.co/facebook/bart-large-mnli).\n",
      "Using a pipeline without specifying a model name and revision in production is not recommended.\n",
      "Device set to use cpu\n"
     ]
    },
    {
     "data": {
      "text/plain": [
       "{'sequence': 'This is a course.',\n",
       " 'labels': ['education', 'business', 'politics'],\n",
       " 'scores': [0.8907862901687622, 0.09442726522684097, 0.014786467887461185]}"
      ]
     },
     "execution_count": 6,
     "metadata": {},
     "output_type": "execute_result"
    }
   ],
   "execution_count": 6
  },
  {
   "metadata": {
    "ExecuteTime": {
     "end_time": "2025-10-20T11:38:35.360015Z",
     "start_time": "2025-10-20T11:37:40.710022Z"
    }
   },
   "cell_type": "code",
   "source": [
    "generator = pipeline('text-generation')\n",
    "generator('This is a course.')"
   ],
   "id": "fce58a6153f8632f",
   "outputs": [
    {
     "name": "stderr",
     "output_type": "stream",
     "text": [
      "No model was supplied, defaulted to openai-community/gpt2 and revision 607a30d (https://huggingface.co/openai-community/gpt2).\n",
      "Using a pipeline without specifying a model name and revision in production is not recommended.\n"
     ]
    },
    {
     "data": {
      "text/plain": [
       "config.json:   0%|          | 0.00/665 [00:00<?, ?B/s]"
      ],
      "application/vnd.jupyter.widget-view+json": {
       "version_major": 2,
       "version_minor": 0,
       "model_id": "87bde9f2a0b748c2b238782171563058"
      }
     },
     "metadata": {},
     "output_type": "display_data",
     "jetTransient": {
      "display_id": null
     }
    },
    {
     "name": "stderr",
     "output_type": "stream",
     "text": [
      "Xet Storage is enabled for this repo, but the 'hf_xet' package is not installed. Falling back to regular HTTP download. For better performance, install the package with: `pip install huggingface_hub[hf_xet]` or `pip install hf_xet`\n"
     ]
    },
    {
     "data": {
      "text/plain": [
       "model.safetensors:   0%|          | 0.00/548M [00:00<?, ?B/s]"
      ],
      "application/vnd.jupyter.widget-view+json": {
       "version_major": 2,
       "version_minor": 0,
       "model_id": "de1db685053c4e88b5f7d2d947f07daa"
      }
     },
     "metadata": {},
     "output_type": "display_data",
     "jetTransient": {
      "display_id": null
     }
    },
    {
     "data": {
      "text/plain": [
       "generation_config.json:   0%|          | 0.00/124 [00:00<?, ?B/s]"
      ],
      "application/vnd.jupyter.widget-view+json": {
       "version_major": 2,
       "version_minor": 0,
       "model_id": "e49e038dc0584c13b2ad03166fa7cf52"
      }
     },
     "metadata": {},
     "output_type": "display_data",
     "jetTransient": {
      "display_id": null
     }
    },
    {
     "data": {
      "text/plain": [
       "tokenizer_config.json:   0%|          | 0.00/26.0 [00:00<?, ?B/s]"
      ],
      "application/vnd.jupyter.widget-view+json": {
       "version_major": 2,
       "version_minor": 0,
       "model_id": "dc1d8e6ebbb246fc8a20f34980c9a7cd"
      }
     },
     "metadata": {},
     "output_type": "display_data",
     "jetTransient": {
      "display_id": null
     }
    },
    {
     "data": {
      "text/plain": [
       "vocab.json: 0.00B [00:00, ?B/s]"
      ],
      "application/vnd.jupyter.widget-view+json": {
       "version_major": 2,
       "version_minor": 0,
       "model_id": "fed9bb6dd3534ef38c3a445da3c4b39f"
      }
     },
     "metadata": {},
     "output_type": "display_data",
     "jetTransient": {
      "display_id": null
     }
    },
    {
     "data": {
      "text/plain": [
       "merges.txt: 0.00B [00:00, ?B/s]"
      ],
      "application/vnd.jupyter.widget-view+json": {
       "version_major": 2,
       "version_minor": 0,
       "model_id": "c1d9335e911545bd976b28243dc620c6"
      }
     },
     "metadata": {},
     "output_type": "display_data",
     "jetTransient": {
      "display_id": null
     }
    },
    {
     "data": {
      "text/plain": [
       "tokenizer.json: 0.00B [00:00, ?B/s]"
      ],
      "application/vnd.jupyter.widget-view+json": {
       "version_major": 2,
       "version_minor": 0,
       "model_id": "c76c72f0da074c7e86749b4903401293"
      }
     },
     "metadata": {},
     "output_type": "display_data",
     "jetTransient": {
      "display_id": null
     }
    },
    {
     "name": "stderr",
     "output_type": "stream",
     "text": [
      "Device set to use cpu\n",
      "Setting `pad_token_id` to `eos_token_id`:50256 for open-end generation.\n"
     ]
    },
    {
     "data": {
      "text/plain": [
       "[{'generated_text': 'This is a course. It\\'s been taught in a public school for some time. It\\'s a course that my parents took in middle school. It was a big part of their education, and it\\'s been very beneficial for me. I think it\\'s something that\\'s been really important to me in my life, and I\\'m glad that my parents did it.\"\\n\\nThe course is titled, \"How to Write a Good Letter: The Story of a Simple and Simple Story,\" written by G.L. Lewis. It was originally intended to be a one-hour course.\\n\\nLewis said that while writing a good letter will be difficult, it\\'s what he\\'s learned from his father that will help him become better at it.\\n\\n\"My father wrote this to me, and the first thing I did was write it down,\" Lewis said. \"I started by saying, \\'I want to write this letter to my father and give him some encouragement to make it into something that he\\'s willing to write for.\\' That helped me think about the letter as I read it and try to get a sense of how it was written. It\\'s not just about writing. It\\'s about being kind and accepting of what happens. It\\'s about giving him a reason to do what he did best'}]"
      ]
     },
     "execution_count": 7,
     "metadata": {},
     "output_type": "execute_result"
    }
   ],
   "execution_count": 7
  },
  {
   "metadata": {
    "ExecuteTime": {
     "end_time": "2025-10-20T11:42:29.296672Z",
     "start_time": "2025-10-20T11:41:47.579966Z"
    }
   },
   "cell_type": "code",
   "source": [
    "generator = pipeline('text-generation',model = 'distilgpt2')\n",
    "generator(\n",
    "           'This is a course.',\n",
    "          max_length=30,\n",
    "          num_return_sequences=2,\n",
    "           )"
   ],
   "id": "ea99166d4b950ec1",
   "outputs": [
    {
     "data": {
      "text/plain": [
       "config.json:   0%|          | 0.00/762 [00:00<?, ?B/s]"
      ],
      "application/vnd.jupyter.widget-view+json": {
       "version_major": 2,
       "version_minor": 0,
       "model_id": "4df04eda7ef74c9f8ce12ae1357f106b"
      }
     },
     "metadata": {},
     "output_type": "display_data",
     "jetTransient": {
      "display_id": null
     }
    },
    {
     "name": "stderr",
     "output_type": "stream",
     "text": [
      "Xet Storage is enabled for this repo, but the 'hf_xet' package is not installed. Falling back to regular HTTP download. For better performance, install the package with: `pip install huggingface_hub[hf_xet]` or `pip install hf_xet`\n"
     ]
    },
    {
     "data": {
      "text/plain": [
       "model.safetensors:   0%|          | 0.00/353M [00:00<?, ?B/s]"
      ],
      "application/vnd.jupyter.widget-view+json": {
       "version_major": 2,
       "version_minor": 0,
       "model_id": "ead979d07c0a43bf900e78b49e805c23"
      }
     },
     "metadata": {},
     "output_type": "display_data",
     "jetTransient": {
      "display_id": null
     }
    },
    {
     "data": {
      "text/plain": [
       "generation_config.json:   0%|          | 0.00/124 [00:00<?, ?B/s]"
      ],
      "application/vnd.jupyter.widget-view+json": {
       "version_major": 2,
       "version_minor": 0,
       "model_id": "c6bac409ac6140ccaa70467833ecee76"
      }
     },
     "metadata": {},
     "output_type": "display_data",
     "jetTransient": {
      "display_id": null
     }
    },
    {
     "data": {
      "text/plain": [
       "tokenizer_config.json:   0%|          | 0.00/26.0 [00:00<?, ?B/s]"
      ],
      "application/vnd.jupyter.widget-view+json": {
       "version_major": 2,
       "version_minor": 0,
       "model_id": "e4e6e8cca305452d88a1af889c0794b8"
      }
     },
     "metadata": {},
     "output_type": "display_data",
     "jetTransient": {
      "display_id": null
     }
    },
    {
     "data": {
      "text/plain": [
       "vocab.json:   0%|          | 0.00/1.04M [00:00<?, ?B/s]"
      ],
      "application/vnd.jupyter.widget-view+json": {
       "version_major": 2,
       "version_minor": 0,
       "model_id": "0b64de8604604822bd4e0fa9eedc9ac9"
      }
     },
     "metadata": {},
     "output_type": "display_data",
     "jetTransient": {
      "display_id": null
     }
    },
    {
     "data": {
      "text/plain": [
       "merges.txt:   0%|          | 0.00/456k [00:00<?, ?B/s]"
      ],
      "application/vnd.jupyter.widget-view+json": {
       "version_major": 2,
       "version_minor": 0,
       "model_id": "dd76e19ffdc0413fa97b9c45029b93bf"
      }
     },
     "metadata": {},
     "output_type": "display_data",
     "jetTransient": {
      "display_id": null
     }
    },
    {
     "data": {
      "text/plain": [
       "tokenizer.json:   0%|          | 0.00/1.36M [00:00<?, ?B/s]"
      ],
      "application/vnd.jupyter.widget-view+json": {
       "version_major": 2,
       "version_minor": 0,
       "model_id": "7d92b5cb826a45b7b2226280d9accb93"
      }
     },
     "metadata": {},
     "output_type": "display_data",
     "jetTransient": {
      "display_id": null
     }
    },
    {
     "name": "stderr",
     "output_type": "stream",
     "text": [
      "Device set to use cpu\n",
      "Truncation was not explicitly activated but `max_length` is provided a specific value, please use `truncation=True` to explicitly truncate examples to max length. Defaulting to 'longest_first' truncation strategy. If you encode pairs of sequences (GLUE-style) with the tokenizer you can select this strategy more precisely by providing a specific strategy to `truncation`.\n",
      "Setting `pad_token_id` to `eos_token_id`:50256 for open-end generation.\n",
      "Both `max_new_tokens` (=256) and `max_length`(=30) seem to have been set. `max_new_tokens` will take precedence. Please refer to the documentation for more information. (https://huggingface.co/docs/transformers/main/en/main_classes/text_generation)\n"
     ]
    },
    {
     "data": {
      "text/plain": [
       "[{'generated_text': 'This is a course. It seeks to be a course, not one.”\\n\\n\\nThe goal of this course is to provide a course in English, and to help readers understand the language and language of English. We can also provide a course in English at a certain level, such as a class. We want to give you some resources that will help you with learning English.\\nA course in English is a very powerful way to learn English. It will help you learn a lot of English, but it will not teach you a lot of things related to language. We want to help you in these more meaningful ways, and we believe that this course is a great way to help you get a better understanding of the language and language of English.\\nA course in English is a very powerful way to learn English. It will help you learn a lot of English, but it will not teach you a lot of things related to language. We want to give you some resources that will help you get a better understanding of the language and language of English. We want to give you some resources that will help you get a better understanding of the language and language of English. We want to give you some resources that will help you get a better understanding of the language and language of English.\\nA'},\n",
       " {'generated_text': 'This is a course.\\n\\nThe course will cover topics like how to make your own web applications (whether you are a web developer or a developer) possible.\\nI will also give you a look at how to make applications that are simple and easy to use.\\nThis course is free and open source. Please see the terms of use here.\\nThe course will teach you how to make your own web applications with the ability to create your own web applications.\\nThe course will also teach you how to create your own web applications with the ability to create your own web applications.\\nThe course will also teach you how to make your own web applications with the ability to create your own web applications with the ability to create your own web applications.\\nThe course will also teach you how to make your own web applications with the ability to create your own web applications with the ability to create your own web applications with the ability to create your own web applications with the ability to create your own web applications with the ability to create your own web applications with the ability to create your own web applications with the ability to create your own web applications with the ability to create your own web applications with the ability to create your own web applications with the ability to create your own web applications with the ability to create your'}]"
      ]
     },
     "execution_count": 8,
     "metadata": {},
     "output_type": "execute_result"
    }
   ],
   "execution_count": 8
  },
  {
   "metadata": {},
   "cell_type": "code",
   "outputs": [],
   "execution_count": null,
   "source": "",
   "id": "8f1053e7c3f3bb15"
  }
 ],
 "metadata": {
  "kernelspec": {
   "display_name": "Python 3",
   "language": "python",
   "name": "python3"
  },
  "language_info": {
   "codemirror_mode": {
    "name": "ipython",
    "version": 2
   },
   "file_extension": ".py",
   "mimetype": "text/x-python",
   "name": "python",
   "nbconvert_exporter": "python",
   "pygments_lexer": "ipython2",
   "version": "2.7.6"
  }
 },
 "nbformat": 4,
 "nbformat_minor": 5
}
